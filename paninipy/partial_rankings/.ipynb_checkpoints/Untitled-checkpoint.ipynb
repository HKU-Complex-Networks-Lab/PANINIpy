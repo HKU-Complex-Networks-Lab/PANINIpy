{
 "cells": [
  {
   "cell_type": "code",
   "execution_count": 1,
   "id": "8cb27929",
   "metadata": {},
   "outputs": [],
   "source": [
    "from collections import Counter\n",
    "\n",
    "# import graph_tool.all as gt\n",
    "import networkx as nx\n",
    "import matplotlib\n",
    "import matplotlib.image as mpimg\n",
    "import matplotlib.pyplot as plt\n",
    "import matplotlib.colors as mcolors\n",
    "import numpy as np\n",
    "import preprocessing as prp\n",
    "import partial_rankings as pr\n",
    "\n",
    "# LaTeX preamble\n",
    "matplotlib.rcParams.update({\"text.usetex\": True})\n",
    "matplotlib.rcParams.update({\"text.latex.preamble\": r\"\", \"font.serif\": \"Times\"})\n",
    "matplotlib.rcParams.update({\"font.family\": \"serif\"})\n"
   ]
  },
  {
   "cell_type": "code",
   "execution_count": 2,
   "id": "a79a0369",
   "metadata": {},
   "outputs": [
    {
     "name": "stderr",
     "output_type": "stream",
     "text": [
      "Initial DL: 1056.129613917342\n",
      "Initial Ranks: 15\n",
      "Tolerance: 1e-06\n",
      "D:\\Research HKU\\partial_rankings\\partial_rankings\\partial_rankings.py:676: RuntimeWarning: invalid value encountered in scalar add\n",
      "  best_ddl += C(R - 1) - C(R)\n",
      "Converged in 15 iterations\n",
      "Partial Rankings: 10\n",
      "Initial DL: 1056.129613917342\n",
      "Min DL: 1049.5129726669468\n",
      "BT DL: 1025.522292332399\n",
      "LPOR: -23.990680334547733\n",
      "CR: 0.993735010207835\n"
     ]
    }
   ],
   "source": [
    "# Load matchlist\n",
    "matchlist = np.loadtxt('wolf.txt', str, delimiter=' ')\n",
    "\n",
    "# Preprocess\n",
    "N = prp.get_N(matchlist)  # Number of players\n",
    "M = prp.get_M(matchlist)  # Number of matches\n",
    "e_out, e_int = prp.get_edges(matchlist)  # Outgoing and incoming edges\n",
    "\n",
    "# Compute partial rankings\n",
    "res = pr.partial_rankings(N, M, e_out, e_int, full_trace=True)\n",
    "\n",
    "# Extract DL list\n",
    "dl_list = [el['DL'] for el in res]\n",
    "\n",
    "# Identify argmin\n",
    "min_idx = np.argmin(dl_list)\n",
    "\n",
    "# Extract results at min DL\n",
    "results = res[min_idx]\n",
    "\n",
    "# Extract BT results\n",
    "bt_results = res[0]\n",
    "\n",
    "# Count the number of times each match occurs\n",
    "match_count = Counter([tuple(match) for match in matchlist])\n",
    "\n",
    "# Generate a weighted matchlist\n",
    "weighted_matchlist = np.array([[match[0], match[1], count] for match, count in match_count.items()])\n",
    "\n",
    "# Extract clusters from results\n",
    "clusters = results['Clusters']\n",
    "\n",
    "# Extract player strengths from results\n",
    "sigmas = results['Strengths']\n",
    "\n",
    "# Extract BT strengths\n",
    "bt_sigmas = bt_results['Strengths']\n"
   ]
  },
  {
   "cell_type": "code",
   "execution_count": 4,
   "id": "327a4e6f",
   "metadata": {},
   "outputs": [],
   "source": [
    "def nx_from_match_list(matchlist: np.ndarray) -> nx.DiGraph:\n",
    "    \"\"\"\n",
    "    Generate a NetworkX directed graph from a match list.\n",
    "\n",
    "    Parameters\n",
    "    ----------\n",
    "    matchlist : ndarray\n",
    "        Array of matches of the form [[i, j, w_ij], ...], where w_ij is the number of times i beats j.\n",
    "\n",
    "    Returns\n",
    "    -------\n",
    "    g : nx.DiGraph\n",
    "        Directed graph representing the matches.\n",
    "    \"\"\"\n",
    "    g = nx.DiGraph()\n",
    "    node_ids = set(matchlist[:, 0]).union(set(matchlist[:, 1]))  # Extract all unique IDs\n",
    "    for node in node_ids:\n",
    "        g.add_node(node, id=node)  # Add 'id' property for each node\n",
    "\n",
    "    for match in matchlist:\n",
    "        i, j = match[0], match[1]\n",
    "        weight = int(match[2]) if len(match) == 3 else 1\n",
    "        g.add_edge(i, j, weight=weight)\n",
    "    return g\n",
    "\n",
    "# Generate NetworkX graph from the matchlist\n",
    "g = nx_from_match_list(weighted_matchlist)\n"
   ]
  },
  {
   "cell_type": "code",
   "execution_count": 5,
   "id": "fd905fb6",
   "metadata": {},
   "outputs": [
    {
     "name": "stdout",
     "output_type": "stream",
     "text": [
      "Extra nodes in sigmas: {'69820590', '62875458', '63876617'}\n",
      "Nodes in graph but missing in sigmas: {'1', '10', '9', '6', '12', '4', '3', '11'}\n"
     ]
    }
   ],
   "source": [
    "# Check for mismatches\n",
    "graph_nodes = set(g.nodes)\n",
    "sigma_nodes = set(sigmas.keys())\n",
    "bt_sigma_nodes = set(bt_sigmas.keys())\n",
    "\n",
    "# Find mismatched nodes\n",
    "extra_sigma_nodes = sigma_nodes - graph_nodes\n",
    "missing_sigma_nodes = graph_nodes - sigma_nodes\n",
    "\n",
    "print(f\"Extra nodes in sigmas: {extra_sigma_nodes}\")\n",
    "print(f\"Nodes in graph but missing in sigmas: {missing_sigma_nodes}\")"
   ]
  }
 ],
 "metadata": {
  "kernelspec": {
   "display_name": "Python 3 (ipykernel)",
   "language": "python",
   "name": "python3"
  },
  "language_info": {
   "codemirror_mode": {
    "name": "ipython",
    "version": 3
   },
   "file_extension": ".py",
   "mimetype": "text/x-python",
   "name": "python",
   "nbconvert_exporter": "python",
   "pygments_lexer": "ipython3",
   "version": "3.9.13"
  }
 },
 "nbformat": 4,
 "nbformat_minor": 5
}
